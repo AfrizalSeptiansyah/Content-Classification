{
 "cells": [
  {
   "cell_type": "markdown",
   "id": "private-restaurant",
   "metadata": {},
   "source": [
    "# Content Classification with Logistic Regression"
   ]
  },
  {
   "cell_type": "markdown",
   "id": "foreign-bishop",
   "metadata": {},
   "source": [
    "## Import Library"
   ]
  },
  {
   "cell_type": "code",
   "execution_count": 1,
   "id": "liked-zoning",
   "metadata": {},
   "outputs": [],
   "source": [
    "import numpy as np\n",
    "import pandas as pd\n",
    "import matplotlib.pyplot as plt\n",
    "import seaborn as sns\n",
    "sns.set()\n",
    "from warnings import filterwarnings\n",
    "filterwarnings('ignore')\n",
    "\n",
    "from sklearn.model_selection import train_test_split\n",
    "from sklearn.pipeline import Pipeline\n",
    "from sklearn.compose import ColumnTransformer\n",
    "\n",
    "from jcopml.utils import save_model, load_model"
   ]
  },
  {
   "cell_type": "markdown",
   "id": "radical-costs",
   "metadata": {},
   "source": [
    "## Load Data"
   ]
  },
  {
   "cell_type": "code",
   "execution_count": 2,
   "id": "alternate-boring",
   "metadata": {},
   "outputs": [
    {
     "data": {
      "text/html": [
       "<div>\n",
       "<style scoped>\n",
       "    .dataframe tbody tr th:only-of-type {\n",
       "        vertical-align: middle;\n",
       "    }\n",
       "\n",
       "    .dataframe tbody tr th {\n",
       "        vertical-align: top;\n",
       "    }\n",
       "\n",
       "    .dataframe thead th {\n",
       "        text-align: right;\n",
       "    }\n",
       "</style>\n",
       "<table border=\"1\" class=\"dataframe\">\n",
       "  <thead>\n",
       "    <tr style=\"text-align: right;\">\n",
       "      <th></th>\n",
       "      <th>content</th>\n",
       "      <th>label</th>\n",
       "    </tr>\n",
       "  </thead>\n",
       "  <tbody>\n",
       "    <tr>\n",
       "      <th>0</th>\n",
       "      <td>Liputan6.com, London - Lee Dixon khawatir Arse...</td>\n",
       "      <td>bola</td>\n",
       "    </tr>\n",
       "    <tr>\n",
       "      <th>1</th>\n",
       "      <td>Liputan6.com, Jakarta - Kasus dugaan penganiay...</td>\n",
       "      <td>news</td>\n",
       "    </tr>\n",
       "    <tr>\n",
       "      <th>2</th>\n",
       "      <td>Liputan6.com, Jakarta Menanggapi aksi eks peke...</td>\n",
       "      <td>bisnis</td>\n",
       "    </tr>\n",
       "    <tr>\n",
       "      <th>3</th>\n",
       "      <td>Liputan6.com, Medan - Sebanyak 81 kendaraan 4x...</td>\n",
       "      <td>bola</td>\n",
       "    </tr>\n",
       "    <tr>\n",
       "      <th>4</th>\n",
       "      <td>Liputan6.com, Jakarta Indonesia akan melawan T...</td>\n",
       "      <td>bola</td>\n",
       "    </tr>\n",
       "  </tbody>\n",
       "</table>\n",
       "</div>"
      ],
      "text/plain": [
       "                                             content   label\n",
       "0  Liputan6.com, London - Lee Dixon khawatir Arse...    bola\n",
       "1  Liputan6.com, Jakarta - Kasus dugaan penganiay...    news\n",
       "2  Liputan6.com, Jakarta Menanggapi aksi eks peke...  bisnis\n",
       "3  Liputan6.com, Medan - Sebanyak 81 kendaraan 4x...    bola\n",
       "4  Liputan6.com, Jakarta Indonesia akan melawan T...    bola"
      ]
     },
     "execution_count": 2,
     "metadata": {},
     "output_type": "execute_result"
    }
   ],
   "source": [
    "df_train = pd.read_csv(\"data/train.csv\")\n",
    "df_train.head()"
   ]
  },
  {
   "cell_type": "code",
   "execution_count": 3,
   "id": "tribal-korea",
   "metadata": {},
   "outputs": [
    {
     "data": {
      "text/html": [
       "<div>\n",
       "<style scoped>\n",
       "    .dataframe tbody tr th:only-of-type {\n",
       "        vertical-align: middle;\n",
       "    }\n",
       "\n",
       "    .dataframe tbody tr th {\n",
       "        vertical-align: top;\n",
       "    }\n",
       "\n",
       "    .dataframe thead th {\n",
       "        text-align: right;\n",
       "    }\n",
       "</style>\n",
       "<table border=\"1\" class=\"dataframe\">\n",
       "  <thead>\n",
       "    <tr style=\"text-align: right;\">\n",
       "      <th></th>\n",
       "      <th>content</th>\n",
       "      <th>label</th>\n",
       "    </tr>\n",
       "  </thead>\n",
       "  <tbody>\n",
       "    <tr>\n",
       "      <th>0</th>\n",
       "      <td>Liputan6.com, Bandung Persib Bandung akan menj...</td>\n",
       "      <td>bola</td>\n",
       "    </tr>\n",
       "    <tr>\n",
       "      <th>1</th>\n",
       "      <td>Liputan6.com, Jakarta - Mantan Ketua Mahkamah ...</td>\n",
       "      <td>news</td>\n",
       "    </tr>\n",
       "    <tr>\n",
       "      <th>2</th>\n",
       "      <td>Liputan6.com, Cardiff - Tragedi yang menimpa E...</td>\n",
       "      <td>bola</td>\n",
       "    </tr>\n",
       "    <tr>\n",
       "      <th>3</th>\n",
       "      <td>Liputan6.com, Jakarta - Kementerian Kelautan d...</td>\n",
       "      <td>bisnis</td>\n",
       "    </tr>\n",
       "    <tr>\n",
       "      <th>4</th>\n",
       "      <td>Liputan6.com, Jakarta - PT Pertamina (Persero)...</td>\n",
       "      <td>bisnis</td>\n",
       "    </tr>\n",
       "  </tbody>\n",
       "</table>\n",
       "</div>"
      ],
      "text/plain": [
       "                                             content   label\n",
       "0  Liputan6.com, Bandung Persib Bandung akan menj...    bola\n",
       "1  Liputan6.com, Jakarta - Mantan Ketua Mahkamah ...    news\n",
       "2  Liputan6.com, Cardiff - Tragedi yang menimpa E...    bola\n",
       "3  Liputan6.com, Jakarta - Kementerian Kelautan d...  bisnis\n",
       "4  Liputan6.com, Jakarta - PT Pertamina (Persero)...  bisnis"
      ]
     },
     "execution_count": 3,
     "metadata": {},
     "output_type": "execute_result"
    }
   ],
   "source": [
    "df_test = pd.read_csv(\"data/test.csv\")\n",
    "df_test.head()"
   ]
  },
  {
   "cell_type": "code",
   "execution_count": 4,
   "id": "twenty-bryan",
   "metadata": {},
   "outputs": [
    {
     "data": {
      "text/plain": [
       "((6127, 2), (2627, 2))"
      ]
     },
     "execution_count": 4,
     "metadata": {},
     "output_type": "execute_result"
    }
   ],
   "source": [
    "df_train.shape, df_test.shape"
   ]
  },
  {
   "cell_type": "markdown",
   "id": "offensive-insulin",
   "metadata": {},
   "source": [
    "Data train memiliki 6127 baris dan 2 kolom. Data test memiliki 2627 baris dan 2 kolom."
   ]
  },
  {
   "cell_type": "code",
   "execution_count": 5,
   "id": "caring-removal",
   "metadata": {},
   "outputs": [
    {
     "data": {
      "text/plain": [
       "content    object\n",
       "label      object\n",
       "dtype: object"
      ]
     },
     "execution_count": 5,
     "metadata": {},
     "output_type": "execute_result"
    }
   ],
   "source": [
    "df_train.dtypes"
   ]
  },
  {
   "cell_type": "code",
   "execution_count": 6,
   "id": "rapid-manitoba",
   "metadata": {},
   "outputs": [
    {
     "data": {
      "text/plain": [
       "content    object\n",
       "label      object\n",
       "dtype: object"
      ]
     },
     "execution_count": 6,
     "metadata": {},
     "output_type": "execute_result"
    }
   ],
   "source": [
    "df_test.dtypes"
   ]
  },
  {
   "cell_type": "markdown",
   "id": "instructional-blackjack",
   "metadata": {},
   "source": [
    "Baik train dan test tipe data telah sesuai."
   ]
  },
  {
   "cell_type": "code",
   "execution_count": 7,
   "id": "organizational-metropolitan",
   "metadata": {},
   "outputs": [
    {
     "data": {
      "text/plain": [
       "content    0\n",
       "label      0\n",
       "dtype: int64"
      ]
     },
     "execution_count": 7,
     "metadata": {},
     "output_type": "execute_result"
    }
   ],
   "source": [
    "df_train.isna().sum()"
   ]
  },
  {
   "cell_type": "code",
   "execution_count": 8,
   "id": "banner-commission",
   "metadata": {},
   "outputs": [
    {
     "data": {
      "text/plain": [
       "content    0\n",
       "label      0\n",
       "dtype: int64"
      ]
     },
     "execution_count": 8,
     "metadata": {},
     "output_type": "execute_result"
    }
   ],
   "source": [
    "df_test.isna().sum()"
   ]
  },
  {
   "cell_type": "markdown",
   "id": "forbidden-assignment",
   "metadata": {},
   "source": [
    "Data telah bersih."
   ]
  },
  {
   "cell_type": "code",
   "execution_count": 9,
   "id": "southeast-plain",
   "metadata": {},
   "outputs": [
    {
     "data": {
      "image/png": "[encoded data removed]",
      "text/plain": [
       "<Figure size 432x288 with 1 Axes>"
      ]
     },
     "metadata": {
      "needs_background": "light"
     },
     "output_type": "display_data"
    }
   ],
   "source": [
    "sns.countplot(df_train.label);"
   ]
  },
  {
   "cell_type": "code",
   "execution_count": 10,
   "id": "tracked-terminology",
   "metadata": {},
   "outputs": [
    {
     "data": {
      "image/png": "[encoded data removed]",
      "text/plain": [
       "<Figure size 432x288 with 1 Axes>"
      ]
     },
     "metadata": {
      "needs_background": "light"
     },
     "output_type": "display_data"
    }
   ],
   "source": [
    "sns.countplot(df_test.label);"
   ]
  },
  {
   "cell_type": "markdown",
   "id": "incomplete-exemption",
   "metadata": {},
   "source": [
    "Data tidak balanbed."
   ]
  },
  {
   "cell_type": "code",
   "execution_count": 11,
   "id": "cleared-fifty",
   "metadata": {},
   "outputs": [
    {
     "data": {
      "text/plain": [
       "'Liputan6.com, London - Lee Dixon khawatir Arsenal tak bisa merekrut Denis Suarez secara permanen musim panas nanti. Pasalnya sejauh ini, Suarez hanya menjadi cadangan bagi The Gunners.\\n\\nSuarez dipinjam Arsenal dari Barcelona, Januari lalu. The Gunners juga bisa membelinya pada akhir musim nanti jika permainannya memuaskan.\\n\\nNamun sejauh ini Suarez tak menjadi pilihan utama di Arsenal. Manajer Unai Emery baru memberinya kesempatan bermain selama 85 menit.\\n\\n\"Emery mungkin tahu kualitas Suarez. Dia tahu Suarez pemain yang dibutuhkannya,\" kata Dixon seperti dilansir Evening Standard.\\n\\n\"Namun dari sudut pandang Suarez, dia pasti berpikir untuk apa pindah kalau tidak bermain. Jadi mungkin saja dia akan menolak Arsenal,\" katanya menambahkan.'"
      ]
     },
     "execution_count": 11,
     "metadata": {},
     "output_type": "execute_result"
    }
   ],
   "source": [
    "df_train.content[0]"
   ]
  },
  {
   "cell_type": "code",
   "execution_count": 12,
   "id": "single-liverpool",
   "metadata": {},
   "outputs": [
    {
     "data": {
      "text/plain": [
       "'Jakarta Liga Champions 2018-2019 memasuki putaran 16 besar pada Selasa (12/2/2019) waktu setempat. Hasil mengejutkan terjadi setelah Manchester United menyerah dari Paris Saint-Germain.\\n\\nTidak tanggung-tanggung, Manchester United takluk dua gol tanpa balas saat menjamu Paris Saint-Germain. Padahal, Setan Merah lebih diunggulkan karena sedang dalam performa apik dan sang lawan juga tampil tanpa dua pemain terbaiknya, Neymar serta Edinson Cavani.\\n\\nMeski demikian, Angel di Maria menjadi aktor utama kemenangan Paris Saint-Germain. Mantan pemain Manchester United itu melepaskan dua umpan berujung gol kemenangan timnya yang dicetak Presnel Kimpembe dan Kylian Mbappe.\\n\\nHasil ini sangat menguntungkan Paris Saint-Germain untuk lolos ke perempat final. Sebab, pasukan Thomas Tuchel itu akan gantian menjamu Manchester United di Parc des Princes, Paris, 5 Maret mendatang.\\n\\nSementara itu pada laga lain, AS Roma membungkus kemenangan 2-1 atas FC Porto di Stadion Olimpico, Roma. Dua gol kemenangan I Lupi dicetak pemain muda, Nicolo Zaniolo. Adapun satu-satunya gol FC Porto dilesakkan Adrian Lopez.\\n\\nMeski kalah, FC Porto masih memiliki peluang untuk lolos ke perempat final Liga Champions lebih besar ketimbang Manchester United. Kini, FC Porto hanya butuh kemenangan 1-0 saat gantian menjamu AS Roma di Stadion Do Dragao, Porto, 5 Maret 2019.'"
      ]
     },
     "execution_count": 12,
     "metadata": {},
     "output_type": "execute_result"
    }
   ],
   "source": [
    "df_train.content[312]"
   ]
  },
  {
   "cell_type": "markdown",
   "id": "approved-affair",
   "metadata": {},
   "source": [
    "## Cleaning"
   ]
  },
  {
   "cell_type": "code",
   "execution_count": 13,
   "id": "quarterly-monaco",
   "metadata": {},
   "outputs": [],
   "source": [
    "from nltk.tokenize import word_tokenize\n",
    "from nltk.corpus import stopwords\n",
    "import re\n",
    "from string import punctuation\n",
    "from sklearn.feature_extraction.text import TfidfVectorizer, CountVectorizer"
   ]
  },
  {
   "cell_type": "code",
   "execution_count": 14,
   "id": "other-cylinder",
   "metadata": {},
   "outputs": [],
   "source": [
    "stopwords = []\n",
    "f = open('data/stopwords.txt', 'r')\n",
    "for i in f.readlines():\n",
    "    stopwords.append(i.replace('\\n', ''))\n",
    "sw_indo = stopwords + list(punctuation)"
   ]
  },
  {
   "cell_type": "code",
   "execution_count": 15,
   "id": "above-given",
   "metadata": {},
   "outputs": [],
   "source": [
    "def cleansing(text):\n",
    "    text = text.lower()\n",
    "    word_list = word_tokenize(text)\n",
    "    word_list = [word for word in word_list if len(word) > 1]\n",
    "    word_list = [word for word in word_list if word not in sw_indo]\n",
    "    text = ' '.join(word_list)\n",
    "    return text"
   ]
  },
  {
   "cell_type": "code",
   "execution_count": 16,
   "id": "welsh-button",
   "metadata": {},
   "outputs": [],
   "source": [
    "df_train['content'] = df_train.content.apply(cleansing)"
   ]
  },
  {
   "cell_type": "code",
   "execution_count": 17,
   "id": "complex-supply",
   "metadata": {},
   "outputs": [],
   "source": [
    "df_test['content'] = df_test.content.apply(cleansing)"
   ]
  },
  {
   "cell_type": "code",
   "execution_count": 18,
   "id": "mechanical-character",
   "metadata": {},
   "outputs": [
    {
     "data": {
      "text/plain": [
       "'liputan6.com london lee dixon khawatir arsenal tak merekrut denis suarez permanen musim panas pasalnya sejauh suarez cadangan gunners suarez dipinjam arsenal barcelona januari gunners membelinya akhir musim permainannya memuaskan sejauh suarez tak pilihan utama arsenal manajer unai emery memberinya kesempatan bermain 85 menit emery mungkin tahu kualitas suarez tahu suarez pemain dibutuhkannya dixon dilansir evening standard sudut pandang suarez pasti berpikir pindah tidak bermain mungkin menolak arsenal katanya menambahkan'"
      ]
     },
     "execution_count": 18,
     "metadata": {},
     "output_type": "execute_result"
    }
   ],
   "source": [
    "df_train.content[0]"
   ]
  },
  {
   "cell_type": "code",
   "execution_count": 19,
   "id": "official-fortune",
   "metadata": {},
   "outputs": [
    {
     "data": {
      "text/plain": [
       "'jakarta liga champions 2018-2019 memasuki putaran 16 besar selasa 12/2/2019 waktu setempat hasil mengejutkan terjadi manchester united menyerah paris saint-germain tidak tanggung-tanggung manchester united takluk dua gol tanpa balas menjamu paris saint-germain padahal setan merah diunggulkan sedang performa apik sang lawan tampil tanpa dua pemain terbaiknya neymar serta edinson cavani meski demikian angel maria aktor utama kemenangan paris saint-germain mantan pemain manchester united melepaskan dua umpan berujung gol kemenangan timnya dicetak presnel kimpembe kylian mbappe hasil menguntungkan paris saint-germain lolos perempat final sebab pasukan thomas tuchel gantian menjamu manchester united parc des princes paris maret mendatang laga as roma membungkus kemenangan 2-1 fc porto stadion olimpico roma dua gol kemenangan lupi dicetak pemain muda nicolo zaniolo adapun satu-satunya gol fc porto dilesakkan adrian lopez meski kalah fc porto peluang lolos perempat final liga champions besar ketimbang manchester united fc porto butuh kemenangan 1-0 gantian menjamu as roma stadion do dragao porto maret 2019'"
      ]
     },
     "execution_count": 19,
     "metadata": {},
     "output_type": "execute_result"
    }
   ],
   "source": [
    "df_train.content[312]"
   ]
  },
  {
   "cell_type": "code",
   "execution_count": 20,
   "id": "arabic-stability",
   "metadata": {},
   "outputs": [
    {
     "data": {
      "text/html": [
       "<div>\n",
       "<style scoped>\n",
       "    .dataframe tbody tr th:only-of-type {\n",
       "        vertical-align: middle;\n",
       "    }\n",
       "\n",
       "    .dataframe tbody tr th {\n",
       "        vertical-align: top;\n",
       "    }\n",
       "\n",
       "    .dataframe thead th {\n",
       "        text-align: right;\n",
       "    }\n",
       "</style>\n",
       "<table border=\"1\" class=\"dataframe\">\n",
       "  <thead>\n",
       "    <tr style=\"text-align: right;\">\n",
       "      <th></th>\n",
       "      <th>content</th>\n",
       "      <th>label</th>\n",
       "    </tr>\n",
       "  </thead>\n",
       "  <tbody>\n",
       "    <tr>\n",
       "      <th>0</th>\n",
       "      <td>liputan6.com london lee dixon khawatir arsenal...</td>\n",
       "      <td>bola</td>\n",
       "    </tr>\n",
       "    <tr>\n",
       "      <th>1</th>\n",
       "      <td>liputan6.com jakarta kasus dugaan penganiayaan...</td>\n",
       "      <td>news</td>\n",
       "    </tr>\n",
       "    <tr>\n",
       "      <th>2</th>\n",
       "      <td>liputan6.com jakarta menanggapi aksi eks peker...</td>\n",
       "      <td>bisnis</td>\n",
       "    </tr>\n",
       "    <tr>\n",
       "      <th>3</th>\n",
       "      <td>liputan6.com medan sebanyak 81 kendaraan 4x4 7...</td>\n",
       "      <td>bola</td>\n",
       "    </tr>\n",
       "    <tr>\n",
       "      <th>4</th>\n",
       "      <td>liputan6.com jakarta indonesia melawan thailan...</td>\n",
       "      <td>bola</td>\n",
       "    </tr>\n",
       "  </tbody>\n",
       "</table>\n",
       "</div>"
      ],
      "text/plain": [
       "                                             content   label\n",
       "0  liputan6.com london lee dixon khawatir arsenal...    bola\n",
       "1  liputan6.com jakarta kasus dugaan penganiayaan...    news\n",
       "2  liputan6.com jakarta menanggapi aksi eks peker...  bisnis\n",
       "3  liputan6.com medan sebanyak 81 kendaraan 4x4 7...    bola\n",
       "4  liputan6.com jakarta indonesia melawan thailan...    bola"
      ]
     },
     "execution_count": 20,
     "metadata": {},
     "output_type": "execute_result"
    }
   ],
   "source": [
    "df_train.head()"
   ]
  },
  {
   "cell_type": "code",
   "execution_count": 21,
   "id": "coordinate-seminar",
   "metadata": {},
   "outputs": [
    {
     "data": {
      "text/html": [
       "<div>\n",
       "<style scoped>\n",
       "    .dataframe tbody tr th:only-of-type {\n",
       "        vertical-align: middle;\n",
       "    }\n",
       "\n",
       "    .dataframe tbody tr th {\n",
       "        vertical-align: top;\n",
       "    }\n",
       "\n",
       "    .dataframe thead th {\n",
       "        text-align: right;\n",
       "    }\n",
       "</style>\n",
       "<table border=\"1\" class=\"dataframe\">\n",
       "  <thead>\n",
       "    <tr style=\"text-align: right;\">\n",
       "      <th></th>\n",
       "      <th>content</th>\n",
       "      <th>label</th>\n",
       "    </tr>\n",
       "  </thead>\n",
       "  <tbody>\n",
       "    <tr>\n",
       "      <th>0</th>\n",
       "      <td>liputan6.com bandung persib bandung menjalani ...</td>\n",
       "      <td>bola</td>\n",
       "    </tr>\n",
       "    <tr>\n",
       "      <th>1</th>\n",
       "      <td>liputan6.com jakarta mantan ketua mahkamah kon...</td>\n",
       "      <td>news</td>\n",
       "    </tr>\n",
       "    <tr>\n",
       "      <th>2</th>\n",
       "      <td>liputan6.com cardiff tragedi menimpa emiliano ...</td>\n",
       "      <td>bola</td>\n",
       "    </tr>\n",
       "    <tr>\n",
       "      <th>3</th>\n",
       "      <td>liputan6.com jakarta kementerian kelautan peri...</td>\n",
       "      <td>bisnis</td>\n",
       "    </tr>\n",
       "    <tr>\n",
       "      <th>4</th>\n",
       "      <td>liputan6.com jakarta pt pertamina persero petr...</td>\n",
       "      <td>bisnis</td>\n",
       "    </tr>\n",
       "  </tbody>\n",
       "</table>\n",
       "</div>"
      ],
      "text/plain": [
       "                                             content   label\n",
       "0  liputan6.com bandung persib bandung menjalani ...    bola\n",
       "1  liputan6.com jakarta mantan ketua mahkamah kon...    news\n",
       "2  liputan6.com cardiff tragedi menimpa emiliano ...    bola\n",
       "3  liputan6.com jakarta kementerian kelautan peri...  bisnis\n",
       "4  liputan6.com jakarta pt pertamina persero petr...  bisnis"
      ]
     },
     "execution_count": 21,
     "metadata": {},
     "output_type": "execute_result"
    }
   ],
   "source": [
    "df_test.head()"
   ]
  },
  {
   "cell_type": "markdown",
   "id": "damaged-seven",
   "metadata": {},
   "source": [
    "## Dataset Splitting"
   ]
  },
  {
   "cell_type": "code",
   "execution_count": 22,
   "id": "arbitrary-allocation",
   "metadata": {},
   "outputs": [
    {
     "data": {
      "text/plain": [
       "((6127,), (6127,), (2627,), (2627,))"
      ]
     },
     "execution_count": 22,
     "metadata": {},
     "output_type": "execute_result"
    }
   ],
   "source": [
    "X_train = df_train.content\n",
    "y_train = df_train.label\n",
    "X_test = df_test.content\n",
    "y_test = df_test.label\n",
    "\n",
    "X_train.shape, y_train.shape, X_test.shape, y_test.shape"
   ]
  },
  {
   "cell_type": "markdown",
   "id": "domestic-contemporary",
   "metadata": {},
   "source": [
    "## Modeling"
   ]
  },
  {
   "cell_type": "code",
   "execution_count": 23,
   "id": "defensive-consciousness",
   "metadata": {},
   "outputs": [],
   "source": [
    "from sklearn.linear_model import LogisticRegression\n",
    "from sklearn.model_selection import RandomizedSearchCV\n",
    "from jcopml.tuning import grid_search_params as sp"
   ]
  },
  {
   "cell_type": "code",
   "execution_count": 24,
   "id": "powerful-version",
   "metadata": {},
   "outputs": [
    {
     "name": "stdout",
     "output_type": "stream",
     "text": [
      "Fitting 5 folds for each of 12 candidates, totalling 60 fits\n"
     ]
    },
    {
     "name": "stderr",
     "output_type": "stream",
     "text": [
      "[Parallel(n_jobs=-2)]: Using backend LokyBackend with 3 concurrent workers.\n",
      "[Parallel(n_jobs=-2)]: Done  44 tasks      | elapsed:  1.9min\n",
      "[Parallel(n_jobs=-2)]: Done  60 out of  60 | elapsed:  2.6min finished\n"
     ]
    },
    {
     "name": "stdout",
     "output_type": "stream",
     "text": [
      "{'algo__fit_intercept': False, 'algo__C': 1000.0}\n",
      "0.9921203347208838 0.9207073715263169 0.9273551670542257\n"
     ]
    }
   ],
   "source": [
    "pipeline = Pipeline([\n",
    "    ('prep', TfidfVectorizer()),\n",
    "    ('algo', LogisticRegression(solver='lbfgs', n_jobs=-2, random_state=42))\n",
    "])\n",
    "\n",
    "model = RandomizedSearchCV(pipeline, sp.logreg_params, cv=5, scoring='f1_macro', n_iter=12, n_jobs=-2, verbose=1, random_state=42)\n",
    "model.fit(X_train, y_train)\n",
    "\n",
    "print(model.best_params_)\n",
    "print(model.score(X_train, y_train), model.best_score_, model.score(X_test, y_test))"
   ]
  },
  {
   "cell_type": "markdown",
   "id": "immune-domestic",
   "metadata": {},
   "source": [
    "## Tambahkan Class Weight"
   ]
  },
  {
   "cell_type": "code",
   "execution_count": 25,
   "id": "acute-train",
   "metadata": {},
   "outputs": [
    {
     "name": "stdout",
     "output_type": "stream",
     "text": [
      "Fitting 5 folds for each of 12 candidates, totalling 60 fits\n"
     ]
    },
    {
     "name": "stderr",
     "output_type": "stream",
     "text": [
      "[Parallel(n_jobs=-2)]: Using backend LokyBackend with 3 concurrent workers.\n",
      "[Parallel(n_jobs=-2)]: Done  44 tasks      | elapsed:  1.4min\n",
      "[Parallel(n_jobs=-2)]: Done  60 out of  60 | elapsed:  1.7min finished\n"
     ]
    },
    {
     "name": "stdout",
     "output_type": "stream",
     "text": [
      "{'algo__fit_intercept': False, 'algo__class_weight': {'bola': 0.05, 'news': 0.05, 'bisnis': 0.05, 'tekno': 0.05, 'otomotif': 0.8}, 'algo__C': 1000.0}\n",
      "0.9921203347208838 0.9231361774466258 0.9262953983542914\n"
     ]
    }
   ],
   "source": [
    "pipeline = Pipeline([\n",
    "    ('prep', TfidfVectorizer()),\n",
    "    ('algo', LogisticRegression(solver='lbfgs', n_jobs=-2, random_state=42))\n",
    "])\n",
    "\n",
    "parameter = {'algo__fit_intercept': [True, False],\n",
    "             'algo__C': np.logspace(-3, 3, 7), \n",
    "             'algo__class_weight': [{'bola': 0.05, 'news': 0.05, 'bisnis': 0.05, 'tekno': 0.05, 'otomotif': 0.8},\n",
    "                                   {'bola': 0.1, 'news': 0.1, 'bisnis': 0.1, 'tekno': 0.1, 'otomotif': 0.6}]}\n",
    "\n",
    "model = RandomizedSearchCV(pipeline, parameter, cv=5, scoring='f1_macro', n_iter=12, n_jobs=-2, verbose=1, random_state=42)\n",
    "model.fit(X_train, y_train)\n",
    "\n",
    "print(model.best_params_)\n",
    "print(model.score(X_train, y_train), model.best_score_, model.score(X_test, y_test))"
   ]
  },
  {
   "cell_type": "markdown",
   "id": "revised-convert",
   "metadata": {},
   "source": [
    "Setelah ditambahkan class weight terjadi sedikit penurunan pada test."
   ]
  },
  {
   "cell_type": "markdown",
   "id": "acute-encyclopedia",
   "metadata": {},
   "source": [
    "## Fine Tuning"
   ]
  },
  {
   "cell_type": "code",
   "execution_count": 26,
   "id": "correct-chicago",
   "metadata": {},
   "outputs": [
    {
     "name": "stdout",
     "output_type": "stream",
     "text": [
      "Fitting 5 folds for each of 2 candidates, totalling 10 fits\n"
     ]
    },
    {
     "name": "stderr",
     "output_type": "stream",
     "text": [
      "[Parallel(n_jobs=-2)]: Using backend LokyBackend with 3 concurrent workers.\n",
      "[Parallel(n_jobs=-2)]: Done  10 out of  10 | elapsed:   44.3s finished\n"
     ]
    },
    {
     "name": "stdout",
     "output_type": "stream",
     "text": [
      "{'algo__fit_intercept': False, 'algo__C': 1000}\n",
      "0.9921203347208838 0.9207073715263169 0.9273551670542257\n"
     ]
    }
   ],
   "source": [
    "pipeline = Pipeline([\n",
    "    ('prep', TfidfVectorizer()),\n",
    "    ('algo', LogisticRegression(solver='lbfgs', n_jobs=-2, random_state=42))\n",
    "])\n",
    "\n",
    "parameter = {'algo__fit_intercept': [True, False],\n",
    "             'algo__C': [1000]}\n",
    "\n",
    "model = RandomizedSearchCV(pipeline, parameter, cv=5, scoring='f1_macro', n_iter=12, n_jobs=-2, verbose=1, random_state=42)\n",
    "model.fit(X_train, y_train)\n",
    "\n",
    "print(model.best_params_)\n",
    "print(model.score(X_train, y_train), model.best_score_, model.score(X_test, y_test))"
   ]
  },
  {
   "cell_type": "markdown",
   "id": "disturbed-graduate",
   "metadata": {},
   "source": [
    "Model telah mendapatkan hyperparameter yang optimal."
   ]
  },
  {
   "cell_type": "markdown",
   "id": "supposed-yeast",
   "metadata": {},
   "source": [
    "## Evaluation"
   ]
  },
  {
   "cell_type": "code",
   "execution_count": 27,
   "id": "informational-cardiff",
   "metadata": {},
   "outputs": [],
   "source": [
    "from sklearn.metrics import roc_auc_score\n",
    "from jcopml.plot import plot_classification_report, plot_confusion_matrix"
   ]
  },
  {
   "cell_type": "code",
   "execution_count": 28,
   "id": "governmental-radio",
   "metadata": {},
   "outputs": [
    {
     "data": {
      "text/plain": [
       "0.999718643285604"
      ]
     },
     "execution_count": 28,
     "metadata": {},
     "output_type": "execute_result"
    }
   ],
   "source": [
    "roc_auc_score(y_train, model.predict_proba(X_train), multi_class='ovr')"
   ]
  },
  {
   "cell_type": "code",
   "execution_count": 29,
   "id": "affecting-appraisal",
   "metadata": {},
   "outputs": [
    {
     "data": {
      "text/plain": [
       "0.9932498467208417"
      ]
     },
     "execution_count": 29,
     "metadata": {},
     "output_type": "execute_result"
    }
   ],
   "source": [
    "roc_auc_score(y_test, model.predict_proba(X_test), multi_class='ovr')"
   ]
  },
  {
   "cell_type": "code",
   "execution_count": 30,
   "id": "collective-macedonia",
   "metadata": {},
   "outputs": [
    {
     "name": "stdout",
     "output_type": "stream",
     "text": [
      "Train report\n",
      "              precision    recall  f1-score   support\n",
      "\n",
      "      bisnis       1.00      0.99      0.99      1339\n",
      "        bola       1.00      0.98      0.99      2063\n",
      "        news       0.97      1.00      0.98      2017\n",
      "    otomotif       1.00      0.99      1.00       130\n",
      "       tekno       1.00      0.99      1.00       578\n",
      "\n",
      "    accuracy                           0.99      6127\n",
      "   macro avg       0.99      0.99      0.99      6127\n",
      "weighted avg       0.99      0.99      0.99      6127\n",
      "\n",
      "\n",
      "Test report\n",
      "              precision    recall  f1-score   support\n",
      "\n",
      "      bisnis       0.90      0.91      0.90       542\n",
      "        bola       0.99      0.98      0.98       923\n",
      "        news       0.92      0.94      0.93       880\n",
      "    otomotif       0.95      0.84      0.89        70\n",
      "       tekno       0.96      0.90      0.93       212\n",
      "\n",
      "    accuracy                           0.94      2627\n",
      "   macro avg       0.94      0.91      0.93      2627\n",
      "weighted avg       0.94      0.94      0.94      2627\n",
      "\n"
     ]
    }
   ],
   "source": [
    "plot_classification_report(X_train, y_train, X_test, y_test, model, report=True)"
   ]
  },
  {
   "cell_type": "code",
   "execution_count": 31,
   "id": "official-decline",
   "metadata": {},
   "outputs": [
    {
     "data": {
      "image/png": "[encoded data removed]",
      "text/plain": [
       "<Figure size 792x360 with 2 Axes>"
      ]
     },
     "metadata": {
      "needs_background": "light"
     },
     "output_type": "display_data"
    }
   ],
   "source": [
    "plot_confusion_matrix(X_train, y_train, X_test, y_test, model)"
   ]
  },
  {
   "cell_type": "markdown",
   "id": "atlantic-taxation",
   "metadata": {},
   "source": [
    "## Save Model"
   ]
  },
  {
   "cell_type": "code",
   "execution_count": 32,
   "id": "exposed-radio",
   "metadata": {},
   "outputs": [
    {
     "name": "stdout",
     "output_type": "stream",
     "text": [
      "Model is pickled as model/logreg.pkl\n"
     ]
    }
   ],
   "source": [
    "save_model(model.best_estimator_, \"logreg.pkl\")"
   ]
  },
  {
   "cell_type": "markdown",
   "id": "broke-saudi",
   "metadata": {},
   "source": [
    "## Check "
   ]
  },
  {
   "cell_type": "code",
   "execution_count": 33,
   "id": "fitting-partnership",
   "metadata": {},
   "outputs": [],
   "source": [
    "text = '''Di Thailand, bengkel motor custom OK Easy Shop berhasil melahirkan street tracker mumpuni  dengan basis Interceptor 650. \n",
    "Secara konsep, ubahannya mengarah ke street tracker. Tapi, ada unsur scrambler yang dimasukkan, yakni pada bagian knalpotnya.'''"
   ]
  },
  {
   "cell_type": "code",
   "execution_count": 34,
   "id": "retained-murray",
   "metadata": {},
   "outputs": [],
   "source": [
    "text = cleansing(text)"
   ]
  },
  {
   "cell_type": "code",
   "execution_count": 35,
   "id": "bibliographic-cooperative",
   "metadata": {},
   "outputs": [
    {
     "data": {
      "text/plain": [
       "array(['otomotif'], dtype=object)"
      ]
     },
     "execution_count": 35,
     "metadata": {},
     "output_type": "execute_result"
    }
   ],
   "source": [
    "model.predict([text])"
   ]
  },
  {
   "cell_type": "markdown",
   "id": "cloudy-debate",
   "metadata": {},
   "source": [
    "## Coba Cek Datanya!"
   ]
  },
  {
   "cell_type": "code",
   "execution_count": 36,
   "id": "needed-pastor",
   "metadata": {},
   "outputs": [
    {
     "data": {
      "text/html": [
       "<div>\n",
       "<style scoped>\n",
       "    .dataframe tbody tr th:only-of-type {\n",
       "        vertical-align: middle;\n",
       "    }\n",
       "\n",
       "    .dataframe tbody tr th {\n",
       "        vertical-align: top;\n",
       "    }\n",
       "\n",
       "    .dataframe thead th {\n",
       "        text-align: right;\n",
       "    }\n",
       "</style>\n",
       "<table border=\"1\" class=\"dataframe\">\n",
       "  <thead>\n",
       "    <tr style=\"text-align: right;\">\n",
       "      <th></th>\n",
       "      <th>content</th>\n",
       "      <th>pred</th>\n",
       "      <th>actual</th>\n",
       "    </tr>\n",
       "  </thead>\n",
       "  <tbody>\n",
       "    <tr>\n",
       "      <th>0</th>\n",
       "      <td>liputan6.com london lee dixon khawatir arsenal...</td>\n",
       "      <td>bola</td>\n",
       "      <td>bola</td>\n",
       "    </tr>\n",
       "    <tr>\n",
       "      <th>1</th>\n",
       "      <td>liputan6.com jakarta kasus dugaan penganiayaan...</td>\n",
       "      <td>news</td>\n",
       "      <td>news</td>\n",
       "    </tr>\n",
       "    <tr>\n",
       "      <th>2</th>\n",
       "      <td>liputan6.com jakarta menanggapi aksi eks peker...</td>\n",
       "      <td>bisnis</td>\n",
       "      <td>bisnis</td>\n",
       "    </tr>\n",
       "    <tr>\n",
       "      <th>3</th>\n",
       "      <td>liputan6.com medan sebanyak 81 kendaraan 4x4 7...</td>\n",
       "      <td>bola</td>\n",
       "      <td>bola</td>\n",
       "    </tr>\n",
       "    <tr>\n",
       "      <th>4</th>\n",
       "      <td>liputan6.com jakarta indonesia melawan thailan...</td>\n",
       "      <td>bola</td>\n",
       "      <td>bola</td>\n",
       "    </tr>\n",
       "  </tbody>\n",
       "</table>\n",
       "</div>"
      ],
      "text/plain": [
       "                                             content    pred  actual\n",
       "0  liputan6.com london lee dixon khawatir arsenal...    bola    bola\n",
       "1  liputan6.com jakarta kasus dugaan penganiayaan...    news    news\n",
       "2  liputan6.com jakarta menanggapi aksi eks peker...  bisnis  bisnis\n",
       "3  liputan6.com medan sebanyak 81 kendaraan 4x4 7...    bola    bola\n",
       "4  liputan6.com jakarta indonesia melawan thailan...    bola    bola"
      ]
     },
     "execution_count": 36,
     "metadata": {},
     "output_type": "execute_result"
    }
   ],
   "source": [
    "df_analisis = pd.DataFrame(X_train.copy(), columns=['content'])\n",
    "df_analisis['pred'] = model.predict(X_train)\n",
    "df_analisis['actual'] = y_train.copy()\n",
    "df_analisis.head()"
   ]
  },
  {
   "cell_type": "code",
   "execution_count": 37,
   "id": "excited-grill",
   "metadata": {},
   "outputs": [
    {
     "data": {
      "text/html": [
       "<div>\n",
       "<style scoped>\n",
       "    .dataframe tbody tr th:only-of-type {\n",
       "        vertical-align: middle;\n",
       "    }\n",
       "\n",
       "    .dataframe tbody tr th {\n",
       "        vertical-align: top;\n",
       "    }\n",
       "\n",
       "    .dataframe thead th {\n",
       "        text-align: right;\n",
       "    }\n",
       "</style>\n",
       "<table border=\"1\" class=\"dataframe\">\n",
       "  <thead>\n",
       "    <tr style=\"text-align: right;\">\n",
       "      <th></th>\n",
       "      <th>content</th>\n",
       "      <th>pred</th>\n",
       "      <th>actual</th>\n",
       "    </tr>\n",
       "  </thead>\n",
       "  <tbody>\n",
       "    <tr>\n",
       "      <th>351</th>\n",
       "      <td>memasuki tahun kelima nestlé milo menggelar mi...</td>\n",
       "      <td>news</td>\n",
       "      <td>bisnis</td>\n",
       "    </tr>\n",
       "    <tr>\n",
       "      <th>713</th>\n",
       "      <td>memasuki tahun kelima nestlé milo menggelar mi...</td>\n",
       "      <td>news</td>\n",
       "      <td>bisnis</td>\n",
       "    </tr>\n",
       "    <tr>\n",
       "      <th>969</th>\n",
       "      <td>memasuki tahun kelima nestlé milo menggelar mi...</td>\n",
       "      <td>news</td>\n",
       "      <td>bisnis</td>\n",
       "    </tr>\n",
       "    <tr>\n",
       "      <th>982</th>\n",
       "      <td>memasuki tahun kelima nestlé milo menggelar mi...</td>\n",
       "      <td>news</td>\n",
       "      <td>bisnis</td>\n",
       "    </tr>\n",
       "    <tr>\n",
       "      <th>1330</th>\n",
       "      <td>memasuki tahun kelima nestlé milo menggelar mi...</td>\n",
       "      <td>news</td>\n",
       "      <td>bisnis</td>\n",
       "    </tr>\n",
       "    <tr>\n",
       "      <th>1515</th>\n",
       "      <td>memasuki tahun kelima nestlé milo menggelar mi...</td>\n",
       "      <td>news</td>\n",
       "      <td>bisnis</td>\n",
       "    </tr>\n",
       "    <tr>\n",
       "      <th>1952</th>\n",
       "      <td>memasuki tahun kelima nestlé milo menggelar mi...</td>\n",
       "      <td>news</td>\n",
       "      <td>bisnis</td>\n",
       "    </tr>\n",
       "    <tr>\n",
       "      <th>2240</th>\n",
       "      <td>memasuki tahun kelima nestlé milo menggelar mi...</td>\n",
       "      <td>news</td>\n",
       "      <td>bisnis</td>\n",
       "    </tr>\n",
       "    <tr>\n",
       "      <th>2663</th>\n",
       "      <td>memasuki tahun kelima nestlé milo menggelar mi...</td>\n",
       "      <td>news</td>\n",
       "      <td>bisnis</td>\n",
       "    </tr>\n",
       "    <tr>\n",
       "      <th>3481</th>\n",
       "      <td>memasuki tahun kelima nestlé milo menggelar mi...</td>\n",
       "      <td>news</td>\n",
       "      <td>bisnis</td>\n",
       "    </tr>\n",
       "    <tr>\n",
       "      <th>3978</th>\n",
       "      <td>memasuki tahun kelima nestlé milo menggelar mi...</td>\n",
       "      <td>news</td>\n",
       "      <td>bisnis</td>\n",
       "    </tr>\n",
       "    <tr>\n",
       "      <th>4196</th>\n",
       "      <td>memasuki tahun kelima nestlé milo menggelar mi...</td>\n",
       "      <td>news</td>\n",
       "      <td>bisnis</td>\n",
       "    </tr>\n",
       "    <tr>\n",
       "      <th>4267</th>\n",
       "      <td>memasuki tahun kelima nestlé milo menggelar mi...</td>\n",
       "      <td>news</td>\n",
       "      <td>bisnis</td>\n",
       "    </tr>\n",
       "    <tr>\n",
       "      <th>4341</th>\n",
       "      <td>memasuki tahun kelima nestlé milo menggelar mi...</td>\n",
       "      <td>news</td>\n",
       "      <td>bisnis</td>\n",
       "    </tr>\n",
       "    <tr>\n",
       "      <th>4788</th>\n",
       "      <td>memasuki tahun kelima nestlé milo menggelar mi...</td>\n",
       "      <td>news</td>\n",
       "      <td>bisnis</td>\n",
       "    </tr>\n",
       "    <tr>\n",
       "      <th>5145</th>\n",
       "      <td>memasuki tahun kelima nestlé milo menggelar mi...</td>\n",
       "      <td>news</td>\n",
       "      <td>bisnis</td>\n",
       "    </tr>\n",
       "    <tr>\n",
       "      <th>5354</th>\n",
       "      <td>memasuki tahun kelima nestlé milo menggelar mi...</td>\n",
       "      <td>news</td>\n",
       "      <td>bisnis</td>\n",
       "    </tr>\n",
       "    <tr>\n",
       "      <th>5364</th>\n",
       "      <td>memasuki tahun kelima nestlé milo menggelar mi...</td>\n",
       "      <td>news</td>\n",
       "      <td>bisnis</td>\n",
       "    </tr>\n",
       "    <tr>\n",
       "      <th>5525</th>\n",
       "      <td>memasuki tahun kelima nestlé milo menggelar mi...</td>\n",
       "      <td>news</td>\n",
       "      <td>bisnis</td>\n",
       "    </tr>\n",
       "  </tbody>\n",
       "</table>\n",
       "</div>"
      ],
      "text/plain": [
       "                                                content  pred  actual\n",
       "351   memasuki tahun kelima nestlé milo menggelar mi...  news  bisnis\n",
       "713   memasuki tahun kelima nestlé milo menggelar mi...  news  bisnis\n",
       "969   memasuki tahun kelima nestlé milo menggelar mi...  news  bisnis\n",
       "982   memasuki tahun kelima nestlé milo menggelar mi...  news  bisnis\n",
       "1330  memasuki tahun kelima nestlé milo menggelar mi...  news  bisnis\n",
       "1515  memasuki tahun kelima nestlé milo menggelar mi...  news  bisnis\n",
       "1952  memasuki tahun kelima nestlé milo menggelar mi...  news  bisnis\n",
       "2240  memasuki tahun kelima nestlé milo menggelar mi...  news  bisnis\n",
       "2663  memasuki tahun kelima nestlé milo menggelar mi...  news  bisnis\n",
       "3481  memasuki tahun kelima nestlé milo menggelar mi...  news  bisnis\n",
       "3978  memasuki tahun kelima nestlé milo menggelar mi...  news  bisnis\n",
       "4196  memasuki tahun kelima nestlé milo menggelar mi...  news  bisnis\n",
       "4267  memasuki tahun kelima nestlé milo menggelar mi...  news  bisnis\n",
       "4341  memasuki tahun kelima nestlé milo menggelar mi...  news  bisnis\n",
       "4788  memasuki tahun kelima nestlé milo menggelar mi...  news  bisnis\n",
       "5145  memasuki tahun kelima nestlé milo menggelar mi...  news  bisnis\n",
       "5354  memasuki tahun kelima nestlé milo menggelar mi...  news  bisnis\n",
       "5364  memasuki tahun kelima nestlé milo menggelar mi...  news  bisnis\n",
       "5525  memasuki tahun kelima nestlé milo menggelar mi...  news  bisnis"
      ]
     },
     "execution_count": 37,
     "metadata": {},
     "output_type": "execute_result"
    }
   ],
   "source": [
    "df_prec = df_analisis[(df_analisis.pred == 'news') & (df_analisis.actual == 'bisnis')]\n",
    "df_prec"
   ]
  },
  {
   "cell_type": "markdown",
   "id": "rising-corps",
   "metadata": {},
   "source": [
    "Dari hasil analisis ternyata banyak data duplikat dan salah label."
   ]
  },
  {
   "cell_type": "code",
   "execution_count": null,
   "id": "progressive-waters",
   "metadata": {},
   "outputs": [],
   "source": []
  }
 ],
 "metadata": {
  "kernelspec": {
   "display_name": "Python [conda env:jcop]",
   "language": "python",
   "name": "conda-env-jcop-py"
  },
  "language_info": {
   "codemirror_mode": {
    "name": "ipython",
    "version": 3
   },
   "file_extension": ".py",
   "mimetype": "text/x-python",
   "name": "python",
   "nbconvert_exporter": "python",
   "pygments_lexer": "ipython3",
   "version": "3.7.6"
  }
 },
 "nbformat": 4,
 "nbformat_minor": 5
}
